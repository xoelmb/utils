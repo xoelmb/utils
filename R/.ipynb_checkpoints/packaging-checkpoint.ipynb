{
 "cells": [
  {
   "cell_type": "markdown",
   "id": "41954679-cf38-41fb-8645-9f1e3257ac88",
   "metadata": {},
   "source": [
    "### Packaging functions"
   ]
  },
  {
   "cell_type": "code",
   "execution_count": 1,
   "id": "6127c123-22c5-4e54-8107-85c43aead92d",
   "metadata": {},
   "outputs": [],
   "source": [
    "set_parallel <- function(slurm_check=T, max_cores=Inf, future=T, future.strategy='multicore', future.mem=Inf){\n",
    "    \n",
    "    n.cores <- NA\n",
    "    \n",
    "    ## Parallel runs\n",
    "    # Define number of assigned cores in slurm cluster\n",
    "    if (slurm_check){\n",
    "        n.cores <-  as.numeric(Sys.getenv('SLURM_CPUS_PER_TASK'))\n",
    "    }\n",
    "    n.cores <- if (!is.na(n.cores) & n.cores > 1) n.cores else parallel::detectCores()\n",
    "    n.cores <- min(max_cores, n.cores)\n",
    "    \n",
    "    if (future){\n",
    "        if (!is.null(future.mem)){\n",
    "            # Increase memory size for parallel\n",
    "            options(future.globals.maxSize= future.mem)\n",
    "        }\n",
    "        # Set parallel strategy\n",
    "        future::plan(strategy = future.strategy, workers = n.cores)\n",
    "    }\n",
    "    return(n.cores)\n",
    "}"
   ]
  },
  {
   "cell_type": "code",
   "execution_count": 3,
   "id": "5bbc04a5-e9ae-48ce-b11f-b76a0d1b9535",
   "metadata": {},
   "outputs": [],
   "source": [
    "save_functions <- function(basename='functions', functions=NULL, envir.get=NULL, R_script=T, Rda=T){\n",
    "    \n",
    "    require(glue)\n",
    "    \n",
    "    if (is.null(envir.get)) {envir.get <- globalenv()}\n",
    "    \n",
    "    if (is.null(functions)){\n",
    "        env.vars <- sort(ls(envir=envir.get))\n",
    "        functions <- env.vars[sapply(sapply(env.vars, get, envir=envir.get), class) == 'function']\n",
    "    }\n",
    "    \n",
    "    if (Rda){\n",
    "        save(list=functions, envir = envir.get, file = glue('{basename}.rda'))\n",
    "    }\n",
    "    \n",
    "    if (R_script){\n",
    "        script <- paste(sapply(1:length(functions), \n",
    "                        function(i, e=envir.get){\n",
    "                            paste(functions[i], \n",
    "                                  paste(deparse(get(x = functions[i], envir = e)),\n",
    "                                        collapse='\\n'), \n",
    "                                  sep=' <- ')}),\n",
    "                        collapse='\\n\\n')\n",
    "        \n",
    "        cat(script, file=glue('{basename}.r'))\n",
    "        return(script)\n",
    "    }\n",
    "}"
   ]
  },
  {
   "cell_type": "code",
   "execution_count": 4,
   "id": "be9af213-d372-4d4d-b0af-1963d110bb81",
   "metadata": {},
   "outputs": [
    {
     "name": "stderr",
     "output_type": "stream",
     "text": [
      "Loading required package: glue\n",
      "\n"
     ]
    },
    {
     "data": {
      "text/html": [
       "<span style=white-space:pre-wrap>'save_functions &lt;- function (basename = \"functions\", functions = NULL, envir.get = NULL, \\n    R_script = T, Rda = T) \\n{\\n    require(glue)\\n    if (is.null(envir.get)) {\\n        envir.get &lt;- globalenv()\\n    }\\n    if (is.null(functions)) {\\n        env.vars &lt;- sort(ls(envir = envir.get))\\n        functions &lt;- env.vars[sapply(sapply(env.vars, get, envir = envir.get), \\n            class) == \"function\"]\\n    }\\n    if (Rda) {\\n        save(list = functions, envir = envir.get, file = glue(\"{basename}.rda\"))\\n    }\\n    if (R_script) {\\n        script &lt;- paste(sapply(1:length(functions), function(i, \\n            e = envir.get) {\\n            paste(functions[i], paste(deparse(get(x = functions[i], \\n                envir = e)), collapse = \"\\\\n\"), sep = \" &lt;- \")\\n        }), collapse = \"\\\\n\\\\n\")\\n        cat(script, file = glue(\"{basename}.r\"))\\n        return(script)\\n    }\\n}\\n\\nset_parallel &lt;- function (slurm_check = T, max_cores = Inf, future = T, future.strategy = \"multicore\", \\n    future.mem = Inf) \\n{\\n    n.cores &lt;- NA\\n    if (slurm_check) {\\n        n.cores &lt;- as.numeric(Sys.getenv(\"SLURM_CPUS_PER_TASK\"))\\n    }\\n    n.cores &lt;- if (!is.na(n.cores) &amp; n.cores &gt; 1) \\n        n.cores\\n    else parallel::detectCores()\\n    n.cores &lt;- min(max_cores, n.cores)\\n    if (future) {\\n        if (!is.null(future.mem)) {\\n            options(future.globals.maxSize = future.mem)\\n        }\\n        future::plan(strategy = future.strategy, workers = n.cores)\\n    }\\n    return(n.cores)\\n}'</span>"
      ],
      "text/latex": [
       "'save\\_functions <- function (basename = \"functions\", functions = NULL, envir.get = NULL, \\textbackslash{}n    R\\_script = T, Rda = T) \\textbackslash{}n\\{\\textbackslash{}n    require(glue)\\textbackslash{}n    if (is.null(envir.get)) \\{\\textbackslash{}n        envir.get <- globalenv()\\textbackslash{}n    \\}\\textbackslash{}n    if (is.null(functions)) \\{\\textbackslash{}n        env.vars <- sort(ls(envir = envir.get))\\textbackslash{}n        functions <- env.vars{[}sapply(sapply(env.vars, get, envir = envir.get), \\textbackslash{}n            class) == \"function\"{]}\\textbackslash{}n    \\}\\textbackslash{}n    if (Rda) \\{\\textbackslash{}n        save(list = functions, envir = envir.get, file = glue(\"\\{basename\\}.rda\"))\\textbackslash{}n    \\}\\textbackslash{}n    if (R\\_script) \\{\\textbackslash{}n        script <- paste(sapply(1:length(functions), function(i, \\textbackslash{}n            e = envir.get) \\{\\textbackslash{}n            paste(functions{[}i{]}, paste(deparse(get(x = functions{[}i{]}, \\textbackslash{}n                envir = e)), collapse = \"\\textbackslash{}\\textbackslash{}n\"), sep = \" <- \")\\textbackslash{}n        \\}), collapse = \"\\textbackslash{}\\textbackslash{}n\\textbackslash{}\\textbackslash{}n\")\\textbackslash{}n        cat(script, file = glue(\"\\{basename\\}.r\"))\\textbackslash{}n        return(script)\\textbackslash{}n    \\}\\textbackslash{}n\\}\\textbackslash{}n\\textbackslash{}nset\\_parallel <- function (slurm\\_check = T, max\\_cores = Inf, future = T, future.strategy = \"multicore\", \\textbackslash{}n    future.mem = Inf) \\textbackslash{}n\\{\\textbackslash{}n    n.cores <- NA\\textbackslash{}n    if (slurm\\_check) \\{\\textbackslash{}n        n.cores <- as.numeric(Sys.getenv(\"SLURM\\_CPUS\\_PER\\_TASK\"))\\textbackslash{}n    \\}\\textbackslash{}n    n.cores <- if (!is.na(n.cores) \\& n.cores > 1) \\textbackslash{}n        n.cores\\textbackslash{}n    else parallel::detectCores()\\textbackslash{}n    n.cores <- min(max\\_cores, n.cores)\\textbackslash{}n    if (future) \\{\\textbackslash{}n        if (!is.null(future.mem)) \\{\\textbackslash{}n            options(future.globals.maxSize = future.mem)\\textbackslash{}n        \\}\\textbackslash{}n        future::plan(strategy = future.strategy, workers = n.cores)\\textbackslash{}n    \\}\\textbackslash{}n    return(n.cores)\\textbackslash{}n\\}'"
      ],
      "text/markdown": [
       "<span style=white-space:pre-wrap>'save_functions &lt;- function (basename = \"functions\", functions = NULL, envir.get = NULL, \\n    R_script = T, Rda = T) \\n{\\n    require(glue)\\n    if (is.null(envir.get)) {\\n        envir.get &lt;- globalenv()\\n    }\\n    if (is.null(functions)) {\\n        env.vars &lt;- sort(ls(envir = envir.get))\\n        functions &lt;- env.vars[sapply(sapply(env.vars, get, envir = envir.get), \\n            class) == \"function\"]\\n    }\\n    if (Rda) {\\n        save(list = functions, envir = envir.get, file = glue(\"{basename}.rda\"))\\n    }\\n    if (R_script) {\\n        script &lt;- paste(sapply(1:length(functions), function(i, \\n            e = envir.get) {\\n            paste(functions[i], paste(deparse(get(x = functions[i], \\n                envir = e)), collapse = \"\\\\n\"), sep = \" &lt;- \")\\n        }), collapse = \"\\\\n\\\\n\")\\n        cat(script, file = glue(\"{basename}.r\"))\\n        return(script)\\n    }\\n}\\n\\nset_parallel &lt;- function (slurm_check = T, max_cores = Inf, future = T, future.strategy = \"multicore\", \\n    future.mem = Inf) \\n{\\n    n.cores &lt;- NA\\n    if (slurm_check) {\\n        n.cores &lt;- as.numeric(Sys.getenv(\"SLURM_CPUS_PER_TASK\"))\\n    }\\n    n.cores &lt;- if (!is.na(n.cores) &amp; n.cores &gt; 1) \\n        n.cores\\n    else parallel::detectCores()\\n    n.cores &lt;- min(max_cores, n.cores)\\n    if (future) {\\n        if (!is.null(future.mem)) {\\n            options(future.globals.maxSize = future.mem)\\n        }\\n        future::plan(strategy = future.strategy, workers = n.cores)\\n    }\\n    return(n.cores)\\n}'</span>"
      ],
      "text/plain": [
       "[1] \"save_functions <- function (basename = \\\"functions\\\", functions = NULL, envir.get = NULL, \\n    R_script = T, Rda = T) \\n{\\n    require(glue)\\n    if (is.null(envir.get)) {\\n        envir.get <- globalenv()\\n    }\\n    if (is.null(functions)) {\\n        env.vars <- sort(ls(envir = envir.get))\\n        functions <- env.vars[sapply(sapply(env.vars, get, envir = envir.get), \\n            class) == \\\"function\\\"]\\n    }\\n    if (Rda) {\\n        save(list = functions, envir = envir.get, file = glue(\\\"{basename}.rda\\\"))\\n    }\\n    if (R_script) {\\n        script <- paste(sapply(1:length(functions), function(i, \\n            e = envir.get) {\\n            paste(functions[i], paste(deparse(get(x = functions[i], \\n                envir = e)), collapse = \\\"\\\\n\\\"), sep = \\\" <- \\\")\\n        }), collapse = \\\"\\\\n\\\\n\\\")\\n        cat(script, file = glue(\\\"{basename}.r\\\"))\\n        return(script)\\n    }\\n}\\n\\nset_parallel <- function (slurm_check = T, max_cores = Inf, future = T, future.strategy = \\\"multicore\\\", \\n    future.mem = Inf) \\n{\\n    n.cores <- NA\\n    if (slurm_check) {\\n        n.cores <- as.numeric(Sys.getenv(\\\"SLURM_CPUS_PER_TASK\\\"))\\n    }\\n    n.cores <- if (!is.na(n.cores) & n.cores > 1) \\n        n.cores\\n    else parallel::detectCores()\\n    n.cores <- min(max_cores, n.cores)\\n    if (future) {\\n        if (!is.null(future.mem)) {\\n            options(future.globals.maxSize = future.mem)\\n        }\\n        future::plan(strategy = future.strategy, workers = n.cores)\\n    }\\n    return(n.cores)\\n}\""
      ]
     },
     "metadata": {},
     "output_type": "display_data"
    }
   ],
   "source": [
    "save_functions('packaging')"
   ]
  }
 ],
 "metadata": {
  "kernelspec": {
   "display_name": "Portfolio (R)",
   "language": "R",
   "name": "portfolio-r"
  },
  "language_info": {
   "codemirror_mode": "r",
   "file_extension": ".r",
   "mimetype": "text/x-r-source",
   "name": "R",
   "pygments_lexer": "r",
   "version": "4.3.1"
  }
 },
 "nbformat": 4,
 "nbformat_minor": 5
}
