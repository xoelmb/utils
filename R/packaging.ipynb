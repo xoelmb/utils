{
 "cells": [
  {
   "cell_type": "markdown",
   "id": "41954679-cf38-41fb-8645-9f1e3257ac88",
   "metadata": {},
   "source": [
    "### Packaging functions"
   ]
  },
  {
   "cell_type": "markdown",
   "id": "d525814a-c042-43f4-8353-d06a2f6bfd5d",
   "metadata": {},
   "source": [
    "#### Parallel"
   ]
  },
  {
   "cell_type": "code",
   "execution_count": 1,
   "id": "6127c123-22c5-4e54-8107-85c43aead92d",
   "metadata": {
    "vscode": {
     "languageId": "r"
    }
   },
   "outputs": [],
   "source": [
    "set_parallel <- function(slurm_check=T, max_cores=Inf, future=T, future.strategy='multicore', future.mem=Inf){\n",
    "    \n",
    "    n.cores <- NA\n",
    "    \n",
    "    ## Parallel runs\n",
    "    # Define number of assigned cores in slurm cluster\n",
    "    if (slurm_check){\n",
    "        n.cores <-  as.numeric(Sys.getenv('SLURM_CPUS_PER_TASK'))\n",
    "    }\n",
    "    n.cores <- if (!is.na(n.cores) & n.cores > 1) n.cores else parallel::detectCores()\n",
    "    n.cores <- min(max_cores, n.cores)\n",
    "    \n",
    "    if (future){\n",
    "        if (!is.null(future.mem)){\n",
    "            # Increase memory size for parallel\n",
    "            options(future.globals.maxSize= future.mem)\n",
    "        }\n",
    "        # Set parallel strategy\n",
    "        future::plan(strategy = future.strategy, workers = n.cores)\n",
    "    }\n",
    "    return(n.cores)\n",
    "}"
   ]
  },
  {
   "cell_type": "markdown",
   "id": "cc0c812a-e54f-4a56-808f-cfb5ebca16dc",
   "metadata": {},
   "source": [
    "#### Export functions"
   ]
  },
  {
   "cell_type": "code",
   "execution_count": 2,
   "id": "5bbc04a5-e9ae-48ce-b11f-b76a0d1b9535",
   "metadata": {
    "vscode": {
     "languageId": "r"
    }
   },
   "outputs": [],
   "source": [
    "save_functions <- function(basename='functions', functions=NULL, envir.get=NULL, R_script=T, Rda=T){\n",
    "    \n",
    "    require(glue)\n",
    "    \n",
    "    if (is.null(envir.get)) {envir.get <- globalenv()}\n",
    "    \n",
    "    if (is.null(functions)){\n",
    "        env.vars <- sort(ls(envir=envir.get))\n",
    "        functions <- env.vars[sapply(sapply(env.vars, get, envir=envir.get), class) == 'function']\n",
    "    }\n",
    "    \n",
    "    if (Rda){\n",
    "        save(list=functions, envir = envir.get, file = glue('{basename}.rda'))\n",
    "    }\n",
    "    \n",
    "    if (R_script){\n",
    "        script <- paste(sapply(1:length(functions), \n",
    "                        function(i, e=envir.get){\n",
    "                            paste(functions[i], \n",
    "                                  paste(deparse(get(x = functions[i], envir = e)),\n",
    "                                        collapse='\\n'), \n",
    "                                  sep=' <- ')}),\n",
    "                        collapse='\\n\\n')\n",
    "        \n",
    "        cat(script, file=glue('{basename}.r'))\n",
    "        return(script)\n",
    "    }\n",
    "}"
   ]
  },
  {
   "cell_type": "code",
   "execution_count": 3,
   "id": "be9af213-d372-4d4d-b0af-1963d110bb81",
   "metadata": {
    "vscode": {
     "languageId": "r"
    }
   },
   "outputs": [
    {
     "name": "stderr",
     "output_type": "stream",
     "text": [
      "Loading required package: glue\n",
      "\n"
     ]
    },
    {
     "name": "stdout",
     "output_type": "stream",
     "text": [
      "save_functions <- function (basename = \"functions\", functions = NULL, envir.get = NULL, \n",
      "    R_script = T, Rda = T) \n",
      "{\n",
      "    require(glue)\n",
      "    if (is.null(envir.get)) {\n",
      "        envir.get <- globalenv()\n",
      "    }\n",
      "    if (is.null(functions)) {\n",
      "        env.vars <- sort(ls(envir = envir.get))\n",
      "        functions <- env.vars[sapply(sapply(env.vars, get, envir = envir.get), \n",
      "            class) == \"function\"]\n",
      "    }\n",
      "    if (Rda) {\n",
      "        save(list = functions, envir = envir.get, file = glue(\"{basename}.rda\"))\n",
      "    }\n",
      "    if (R_script) {\n",
      "        script <- paste(sapply(1:length(functions), function(i, \n",
      "            e = envir.get) {\n",
      "            paste(functions[i], paste(deparse(get(x = functions[i], \n",
      "                envir = e)), collapse = \"\\n\"), sep = \" <- \")\n",
      "        }), collapse = \"\\n\\n\")\n",
      "        cat(script, file = glue(\"{basename}.r\"))\n",
      "        return(script)\n",
      "    }\n",
      "}\n",
      "\n",
      "set_parallel <- function (slurm_check = T, max_cores = Inf, future = T, future.strategy = \"multicore\", \n",
      "    future.mem = Inf) \n",
      "{\n",
      "    n.cores <- NA\n",
      "    if (slurm_check) {\n",
      "        n.cores <- as.numeric(Sys.getenv(\"SLURM_CPUS_PER_TASK\"))\n",
      "    }\n",
      "    n.cores <- if (!is.na(n.cores) & n.cores > 1) \n",
      "        n.cores\n",
      "    else parallel::detectCores()\n",
      "    n.cores <- min(max_cores, n.cores)\n",
      "    if (future) {\n",
      "        if (!is.null(future.mem)) {\n",
      "            options(future.globals.maxSize = future.mem)\n",
      "        }\n",
      "        future::plan(strategy = future.strategy, workers = n.cores)\n",
      "    }\n",
      "    return(n.cores)\n",
      "}"
     ]
    }
   ],
   "source": [
    "cat(save_functions('packaging'))"
   ]
  }
 ],
 "metadata": {
  "kernelspec": {
   "display_name": "Portfolio (R)",
   "language": "R",
   "name": "portfolio-r"
  },
  "language_info": {
   "codemirror_mode": "r",
   "file_extension": ".r",
   "mimetype": "text/x-r-source",
   "name": "R",
   "pygments_lexer": "r",
   "version": "4.3.1"
  }
 },
 "nbformat": 4,
 "nbformat_minor": 5
}
