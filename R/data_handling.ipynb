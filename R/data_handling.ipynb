{
 "cells": [
  {
   "cell_type": "code",
   "execution_count": 1,
   "id": "0f58b6e7-56f9-4d50-97c6-77e4fe5b8e1d",
   "metadata": {
    "vscode": {
     "languageId": "r"
    }
   },
   "outputs": [
    {
     "name": "stdout",
     "output_type": "stream",
     "text": [
      "Loading objects:\n",
      "  save_functions\n",
      "  set_parallel\n"
     ]
    }
   ],
   "source": [
    "load('packaging.rda', verbose=T)"
   ]
  },
  {
   "cell_type": "markdown",
   "id": "e9976777-4287-41a2-8fe0-5756341b7e3b",
   "metadata": {},
   "source": [
    "### Data handling "
   ]
  },
  {
   "cell_type": "markdown",
   "id": "002c759f-1c6c-41f2-af2a-ac5159a9994b",
   "metadata": {},
   "source": [
    "#### Restore factors **_data.frame_**"
   ]
  },
  {
   "cell_type": "code",
   "execution_count": 2,
   "id": "07944a6c-7dfe-46be-99ab-d1fe8036ac1d",
   "metadata": {
    "vscode": {
     "languageId": "r"
    }
   },
   "outputs": [],
   "source": [
    "restore.factors <- function(x, reference, factor.vars=NULL){\n",
    "    \n",
    "    if (is.null(factor.vars)){\n",
    "        factor.vars <- colnames(reference)[unlist(lapply(reference, is.factor))]\n",
    "    }\n",
    "    for (fct.var in factor.vars){\n",
    "        if (!fct.var%in%colnames(x)){next()}\n",
    "        if (!all(unique(x[,fct.var])%in%levels(reference[,fct.var]))){next()}\n",
    "        x[,fct.var] <- factor(as.character(x[,fct.var]), levels=levels(reference[,fct.var]))\n",
    "            \n",
    "    }\n",
    "    return(x)\n",
    "}"
   ]
  },
  {
   "cell_type": "markdown",
   "id": "c3b53ad7-8639-476d-b680-249213c37d3f",
   "metadata": {},
   "source": [
    "#### Summarise by groups **_data.frame_**"
   ]
  },
  {
   "cell_type": "code",
   "execution_count": 3,
   "id": "f6b194a4-8dd2-447e-88d2-34006f4e3049",
   "metadata": {
    "vscode": {
     "languageId": "r"
    }
   },
   "outputs": [],
   "source": [
    "summarise.metadata <- function(meta.data, group.vars, annotation.vars, \n",
    "                               keep_factors = T,\n",
    "                               num.fun = mean, \n",
    "                               char.fun=function(x){paste(unique(as.character(x)), collapse=',')}){\n",
    "    \n",
    "    # copy data\n",
    "    d <- meta.data\n",
    "    \n",
    "    require(dplyr)\n",
    "    \n",
    "    d %>% group_by_at(group.vars) %>% select_at(annotation.vars) %>% summarise_all(function(x){\n",
    "        if (is.numeric(x)){num.fun(x)}else{char.fun(x)}\n",
    "    }) %>% as.data.frame() -> sum.d\n",
    "    \n",
    "    if (keep_factors){\n",
    "        sum.d <- restore.factors(x = sum.d, reference=meta.data)\n",
    "    }\n",
    "    # rownames(sum.d) <- apply(sum.d[,group.vars], 1, paste, collapse='_')\n",
    "    return(sum.d)\n",
    "    \n",
    "}"
   ]
  },
  {
   "cell_type": "code",
   "execution_count": 4,
   "id": "5e40656c-0d4d-43be-8176-61648f2ba47c",
   "metadata": {
    "vscode": {
     "languageId": "r"
    }
   },
   "outputs": [
    {
     "name": "stderr",
     "output_type": "stream",
     "text": [
      "Loading required package: glue\n",
      "\n"
     ]
    },
    {
     "name": "stdout",
     "output_type": "stream",
     "text": [
      "restore.factors <- function (x, reference, factor.vars = NULL) \n",
      "{\n",
      "    if (is.null(factor.vars)) {\n",
      "        factor.vars <- colnames(reference)[unlist(lapply(reference, \n",
      "            is.factor))]\n",
      "    }\n",
      "    for (fct.var in factor.vars) {\n",
      "        if (!fct.var %in% colnames(x)) {\n",
      "            (next)()\n",
      "        }\n",
      "        if (!all(unique(x[, fct.var]) %in% levels(reference[, \n",
      "            fct.var]))) {\n",
      "            (next)()\n",
      "        }\n",
      "        x[, fct.var] <- factor(as.character(x[, fct.var]), levels = levels(reference[, \n",
      "            fct.var]))\n",
      "    }\n",
      "    return(x)\n",
      "}\n",
      "\n",
      "save_functions <- function (basename = \"functions\", functions = NULL, envir.get = NULL, \n",
      "    R_script = T, Rda = T) \n",
      "{\n",
      "    require(glue)\n",
      "    if (is.null(envir.get)) {\n",
      "        envir.get <- globalenv()\n",
      "    }\n",
      "    if (is.null(functions)) {\n",
      "        env.vars <- sort(ls(envir = envir.get))\n",
      "        functions <- env.vars[sapply(sapply(env.vars, get, envir = envir.get), \n",
      "            class) == \"function\"]\n",
      "    }\n",
      "    if (Rda) {\n",
      "        save(list = functions, envir = envir.get, file = glue(\"{basename}.rda\"))\n",
      "    }\n",
      "    if (R_script) {\n",
      "        script <- paste(sapply(1:length(functions), function(i, \n",
      "            e = envir.get) {\n",
      "            paste(functions[i], paste(deparse(get(x = functions[i], \n",
      "                envir = e)), collapse = \"\\n\"), sep = \" <- \")\n",
      "        }), collapse = \"\\n\\n\")\n",
      "        cat(script, file = glue(\"{basename}.r\"))\n",
      "        return(script)\n",
      "    }\n",
      "}\n",
      "\n",
      "set_parallel <- function (slurm_check = T, max_cores = Inf, future = T, future.strategy = \"multicore\", \n",
      "    future.mem = Inf) \n",
      "{\n",
      "    n.cores <- NA\n",
      "    if (slurm_check) {\n",
      "        n.cores <- as.numeric(Sys.getenv(\"SLURM_CPUS_PER_TASK\"))\n",
      "    }\n",
      "    n.cores <- if (!is.na(n.cores) & n.cores > 1) \n",
      "        n.cores\n",
      "    else parallel::detectCores()\n",
      "    n.cores <- min(max_cores, n.cores)\n",
      "    if (future) {\n",
      "        if (!is.null(future.mem)) {\n",
      "            options(future.globals.maxSize = future.mem)\n",
      "        }\n",
      "        future::plan(strategy = future.strategy, workers = n.cores)\n",
      "    }\n",
      "    return(n.cores)\n",
      "}\n",
      "\n",
      "summarise.metadata <- function (meta.data, group.vars, annotation.vars, keep_factors = T, \n",
      "    num.fun = mean, char.fun = function(x) {\n",
      "        paste(unique(as.character(x)), collapse = \",\")\n",
      "    }) \n",
      "{\n",
      "    d <- meta.data\n",
      "    require(dplyr)\n",
      "    sum.d <- d %>% group_by_at(group.vars) %>% select_at(annotation.vars) %>% \n",
      "        summarise_all(function(x) {\n",
      "            if (is.numeric(x)) {\n",
      "                num.fun(x)\n",
      "            }\n",
      "            else {\n",
      "                char.fun(x)\n",
      "            }\n",
      "        }) %>% as.data.frame()\n",
      "    if (keep_factors) {\n",
      "        sum.d <- restore.factors(x = sum.d, reference = meta.data)\n",
      "    }\n",
      "    return(sum.d)\n",
      "}"
     ]
    }
   ],
   "source": [
    "cat(save_functions('data_handling'))"
   ]
  },
  {
   "cell_type": "code",
   "execution_count": null,
   "id": "5c5c55a5-dd7b-46d7-b83a-b5d5f218f778",
   "metadata": {
    "vscode": {
     "languageId": "r"
    }
   },
   "outputs": [],
   "source": []
  }
 ],
 "metadata": {
  "kernelspec": {
   "display_name": "Portfolio (R)",
   "language": "R",
   "name": "portfolio-r"
  },
  "language_info": {
   "codemirror_mode": "r",
   "file_extension": ".r",
   "mimetype": "text/x-r-source",
   "name": "R",
   "pygments_lexer": "r",
   "version": "4.3.1"
  }
 },
 "nbformat": 4,
 "nbformat_minor": 5
}
