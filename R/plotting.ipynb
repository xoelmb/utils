{
 "cells": [
  {
   "cell_type": "code",
   "execution_count": 1,
   "id": "1c8a7bc0-0cf8-4caa-92c3-d1a488c26274",
   "metadata": {},
   "outputs": [
    {
     "name": "stdout",
     "output_type": "stream",
     "text": [
      "Loading objects:\n",
      "  save_functions\n",
      "  set_parallel\n"
     ]
    }
   ],
   "source": [
    "load('packaging.rda', verbose=T)"
   ]
  },
  {
   "cell_type": "code",
   "execution_count": 2,
   "id": "f3af5710-3f76-4d42-a1a1-c1798e6930bc",
   "metadata": {},
   "outputs": [],
   "source": [
    "fig <- function(w=NA,h=NA){\n",
    "    options(repr.plot.width=w, repr.plot.height=h)\n",
    "}"
   ]
  },
  {
   "cell_type": "code",
   "execution_count": 3,
   "id": "8b82192e-707d-485c-8e9b-e6d23f86e9d6",
   "metadata": {},
   "outputs": [
    {
     "name": "stderr",
     "output_type": "stream",
     "text": [
      "Loading required package: glue\n",
      "\n"
     ]
    },
    {
     "name": "stdout",
     "output_type": "stream",
     "text": [
      "fig <- function (w = NA, h = NA) \n",
      "{\n",
      "    options(repr.plot.width = w, repr.plot.height = h)\n",
      "}\n",
      "\n",
      "save_functions <- function (basename = \"functions\", functions = NULL, envir.get = NULL, \n",
      "    R_script = T, Rda = T) \n",
      "{\n",
      "    require(glue)\n",
      "    if (is.null(envir.get)) {\n",
      "        envir.get <- globalenv()\n",
      "    }\n",
      "    if (is.null(functions)) {\n",
      "        env.vars <- sort(ls(envir = envir.get))\n",
      "        functions <- env.vars[sapply(sapply(env.vars, get, envir = envir.get), \n",
      "            class) == \"function\"]\n",
      "    }\n",
      "    if (Rda) {\n",
      "        save(list = functions, envir = envir.get, file = glue(\"{basename}.rda\"))\n",
      "    }\n",
      "    if (R_script) {\n",
      "        script <- paste(sapply(1:length(functions), function(i, \n",
      "            e = envir.get) {\n",
      "            paste(functions[i], paste(deparse(get(x = functions[i], \n",
      "                envir = e)), collapse = \"\\n\"), sep = \" <- \")\n",
      "        }), collapse = \"\\n\\n\")\n",
      "        cat(script, file = glue(\"{basename}.r\"))\n",
      "        return(script)\n",
      "    }\n",
      "}\n",
      "\n",
      "set_parallel <- function (slurm_check = T, max_cores = Inf, future = T, future.strategy = \"multicore\", \n",
      "    future.mem = Inf) \n",
      "{\n",
      "    n.cores <- NA\n",
      "    if (slurm_check) {\n",
      "        n.cores <- as.numeric(Sys.getenv(\"SLURM_CPUS_PER_TASK\"))\n",
      "    }\n",
      "    n.cores <- if (!is.na(n.cores) & n.cores > 1) \n",
      "        n.cores\n",
      "    else parallel::detectCores()\n",
      "    n.cores <- min(max_cores, n.cores)\n",
      "    if (future) {\n",
      "        if (!is.null(future.mem)) {\n",
      "            options(future.globals.maxSize = future.mem)\n",
      "        }\n",
      "        future::plan(strategy = future.strategy, workers = n.cores)\n",
      "    }\n",
      "    return(n.cores)\n",
      "}"
     ]
    }
   ],
   "source": [
    "cat(save_functions('plotting'))"
   ]
  },
  {
   "cell_type": "code",
   "execution_count": null,
   "id": "60aacc2e-eb34-4dd2-a597-641e02e686ee",
   "metadata": {},
   "outputs": [],
   "source": []
  }
 ],
 "metadata": {
  "kernelspec": {
   "display_name": "Portfolio (R)",
   "language": "R",
   "name": "portfolio-r"
  },
  "language_info": {
   "codemirror_mode": "r",
   "file_extension": ".r",
   "mimetype": "text/x-r-source",
   "name": "R",
   "pygments_lexer": "r",
   "version": "4.3.1"
  }
 },
 "nbformat": 4,
 "nbformat_minor": 5
}
