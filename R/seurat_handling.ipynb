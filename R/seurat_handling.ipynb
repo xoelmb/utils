{
 "cells": [
  {
   "cell_type": "code",
   "execution_count": 1,
   "id": "29f1f025-5dfd-482d-8dba-d952609ba172",
   "metadata": {},
   "outputs": [
    {
     "name": "stdout",
     "output_type": "stream",
     "text": [
      "Loading objects:\n",
      "  save_functions\n",
      "  set_parallel\n"
     ]
    }
   ],
   "source": [
    "load('packaging.rda', verbose=T)"
   ]
  },
  {
   "cell_type": "markdown",
   "id": "ef68712e-92e5-4fec-b00f-1f1f8eaef3f0",
   "metadata": {},
   "source": [
    "### Seurat data handling"
   ]
  },
  {
   "cell_type": "markdown",
   "id": "22a10262-574d-4b44-b9e7-fc8dc08d8804",
   "metadata": {},
   "source": [
    "#### Group cells using variables"
   ]
  },
  {
   "cell_type": "code",
   "execution_count": 2,
   "id": "7df15667-f6d7-4266-b786-21ebf9beab91",
   "metadata": {},
   "outputs": [],
   "source": [
    "get.grouped.cells <- function(object, group.vars){\n",
    "    grouped.cells <- split(\n",
    "        colnames(object), \n",
    "        apply(object@meta.data[, group.vars], 1, paste, collapse='_')\n",
    "    )\n",
    "    return(grouped.cells)\n",
    "}"
   ]
  },
  {
   "cell_type": "markdown",
   "id": "fb7ad218-85a2-469e-ae2e-38f3e6241048",
   "metadata": {},
   "source": [
    "#### Merge seurat object list"
   ]
  },
  {
   "cell_type": "code",
   "execution_count": 3,
   "id": "749787d0-9718-444d-a5c2-5ddf1ff4e567",
   "metadata": {
    "scrolled": true,
    "tags": []
   },
   "outputs": [],
   "source": [
    "merge.seurat <- function(seurat_list, merge.data = T){\n",
    "    return(\n",
    "        purrr::reduce(seurat_list,\n",
    "                      function(x, y) {merge(x = x, y = y, merge.data = merge.data)})\n",
    "        )\n",
    "}"
   ]
  },
  {
   "cell_type": "markdown",
   "id": "754ee87e-a5d8-44ad-981d-0a3bb73881f9",
   "metadata": {},
   "source": [
    "#### Rename cells"
   ]
  },
  {
   "cell_type": "code",
   "execution_count": 4,
   "id": "a92ef5c1-0d5a-4532-9208-72e74784f52e",
   "metadata": {},
   "outputs": [],
   "source": [
    "rename.seurat.cells <- function(object, new.names, assays=c('RNA'), slots=c('counts', 'data', 'scale.data')){\n",
    "    \n",
    "    require(Seurat)\n",
    "    \n",
    "    meta.data <- object@meta.data\n",
    "    rownames(meta.data) <- new.names\n",
    "    \n",
    "    counts <- object[['RNA']]@counts\n",
    "    colnames(counts) <- new.names\n",
    "    \n",
    "    newobj <- CreateSeuratObject(counts = counts, row.names = rownames(object), min.cells = 0, min.features = 0, assay = 'RNA', meta.data = meta.data)\n",
    "    \n",
    "    for (assay in names(object)){\n",
    "        if (!assay%in%assays){next()}\n",
    "        for (sl in slotNames(object[[assay]])){\n",
    "            if (!sl%in%slots){next()}\n",
    "            \n",
    "            slotdata <- slot(object[[assay]], sl)\n",
    "            if (0%in%dim(slotdata)){next()}\n",
    "            \n",
    "            colnames(slotdata) <- new.names\n",
    "            slot(newobj[[assay]], sl) <- slotdata\n",
    "        }\n",
    "    }\n",
    "    return(newobj)\n",
    "}"
   ]
  },
  {
   "cell_type": "markdown",
   "id": "84f20097-a5bf-4cf7-8a37-5e564bd85322",
   "metadata": {},
   "source": [
    "#### Subset Seurat from (maybe duplicated) cells"
   ]
  },
  {
   "cell_type": "code",
   "execution_count": 5,
   "id": "e56a4442-8745-4fda-984f-904b1772b1d5",
   "metadata": {},
   "outputs": [],
   "source": [
    "get.seurat.from.cells <- function(object, cells){\n",
    "    require(dplyr)\n",
    "    \n",
    "    if(!any(duplicated(cells))){\n",
    "        return(object[,cells])\n",
    "    } else{\n",
    "        cells <- data.frame(cells)%>%group_by(cells)%>%\n",
    "            mutate(rep=1:length(cells), new.cell=paste(cells, rep, sep='_'))\n",
    "\n",
    "        new.obj <- lapply(\n",
    "            split(cells, cells$rep), function(celldata){\n",
    "                new.obj <- object[,celldata$cells]\n",
    "                new.obj <- rename.seurat.cells(object = new.obj, new.names = celldata$new.cell)\n",
    "                new.obj\n",
    "            }) %>% merge.seurat(merge.data = T) \n",
    "        return(new.obj)\n",
    "    }\n",
    "}"
   ]
  },
  {
   "cell_type": "markdown",
   "id": "bd2f48fa-bf90-4bd0-81c7-1c3126b28a4c",
   "metadata": {},
   "source": [
    "#### Dimensionality reduction automatic"
   ]
  },
  {
   "cell_type": "code",
   "execution_count": 6,
   "id": "13a400e4-3431-41b3-a88b-c6df99cc40cb",
   "metadata": {},
   "outputs": [],
   "source": [
    "dimred.auto <- function(object, lognorm=T, scale.factor=10000, \n",
    "                        plot.vars=NULL, base.size = 5, umap=T, tsne=T, pca=T){\n",
    "    \n",
    "    require(Seurat)\n",
    "    \n",
    "    suppressMessages(suppressWarnings(expr = {\n",
    "        \n",
    "        if (lognorm){\n",
    "            object <- NormalizeData(object, scale.factor=scale.factor)\n",
    "        }\n",
    "        object <- ScaleData(object)\n",
    "\n",
    "        object <- FindVariableFeatures(object)\n",
    "\n",
    "        npcs <- min(ncol(object)-1, 50)\n",
    "        object <- RunPCA(object, npcs = npcs)\n",
    "\n",
    "\n",
    "        options(repr.plot.height=8, repr.plot.width=16)\n",
    "\n",
    "\n",
    "        \n",
    "    }))\n",
    "                     \n",
    "    if (!is.null(plot.vars) & pca){\n",
    "        \n",
    "        pca.plots <- NULL\n",
    "        for (pvar in plot.vars){\n",
    "            p <- LabelClusters(DimPlot(object, pt.size = 4, reduction = 'pca',\n",
    "                                   group.by = pvar,# split.by='stim'\n",
    "                                  ), id=pvar)\n",
    "            pca.plots <- if(is.null(pca.plots)){p}else{pca.plots+p}\n",
    "        }\n",
    "        plot(pca.plots)\n",
    "        \n",
    "    }\n",
    "    if (umap){\n",
    "        object <- RunUMAP(object, dims=1:npcs, verbose=F, spread = 4, min.dist = 0)\n",
    "        if (!is.null(plot.vars)){\n",
    "\n",
    "            umap.plots <- NULL\n",
    "            for (pvar in plot.vars){\n",
    "                p <- LabelClusters(DimPlot(object, pt.size = 4, reduction = 'umap',\n",
    "                                       group.by = pvar,# split.by='stim'\n",
    "                                      ), id=pvar)\n",
    "                umap.plots <- if(is.null(umap.plots)){p}else{umap.plots+p}\n",
    "            }\n",
    "            plot(umap.plots)\n",
    "        }\n",
    "    }\n",
    "\n",
    "    if (tsne){\n",
    "        object <- RunTSNE(object, dims=1:npcs, perplexity=5)\n",
    "\n",
    "        if (!is.null(plot.vars)){\n",
    "\n",
    "            tsne.plots <- NULL\n",
    "            for (pvar in plot.vars){\n",
    "                p <- LabelClusters(DimPlot(object, pt.size = 4, reduction = 'tsne',\n",
    "                                       group.by = pvar,# split.by='stim'\n",
    "                                      ), id=pvar)\n",
    "                tsne.plots <- if(is.null(tsne.plots)){p}else{tsne.plots+p}\n",
    "            }\n",
    "            plot(tsne.plots)\n",
    "        }\n",
    "    }\n",
    "\n",
    "    return(object)\n",
    "}"
   ]
  },
  {
   "cell_type": "code",
   "execution_count": 7,
   "id": "5c5aa30e-5ed6-42ab-bf40-ffb433fcf397",
   "metadata": {},
   "outputs": [
    {
     "name": "stderr",
     "output_type": "stream",
     "text": [
      "Loading required package: glue\n",
      "\n"
     ]
    },
    {
     "data": {
      "text/html": [
       "<span style=white-space:pre-wrap>'dimred.auto &lt;- function (object, lognorm = T, scale.factor = 10000, plot.vars = NULL, \\n    base.size = 5, umap = T, tsne = T, pca = T) \\n{\\n    require(Seurat)\\n    suppressMessages(suppressWarnings(expr = {\\n        if (lognorm) {\\n            object &lt;- NormalizeData(object, scale.factor = scale.factor)\\n        }\\n        object &lt;- ScaleData(object)\\n        object &lt;- FindVariableFeatures(object)\\n        npcs &lt;- min(ncol(object) - 1, 50)\\n        object &lt;- RunPCA(object, npcs = npcs)\\n        options(repr.plot.height = 8, repr.plot.width = 16)\\n    }))\\n    if (!is.null(plot.vars) &amp; pca) {\\n        pca.plots &lt;- NULL\\n        for (pvar in plot.vars) {\\n            p &lt;- LabelClusters(DimPlot(object, pt.size = 4, reduction = \"pca\", \\n                group.by = pvar, ), id = pvar)\\n            pca.plots &lt;- if (is.null(pca.plots)) {\\n                p\\n            }\\n            else {\\n                pca.plots + p\\n            }\\n        }\\n        plot(pca.plots)\\n    }\\n    if (umap) {\\n        object &lt;- RunUMAP(object, dims = 1:npcs, verbose = F, \\n            spread = 4, min.dist = 0)\\n        if (!is.null(plot.vars)) {\\n            umap.plots &lt;- NULL\\n            for (pvar in plot.vars) {\\n                p &lt;- LabelClusters(DimPlot(object, pt.size = 4, \\n                  reduction = \"umap\", group.by = pvar, ), id = pvar)\\n                umap.plots &lt;- if (is.null(umap.plots)) {\\n                  p\\n                }\\n                else {\\n                  umap.plots + p\\n                }\\n            }\\n            plot(umap.plots)\\n        }\\n    }\\n    if (tsne) {\\n        object &lt;- RunTSNE(object, dims = 1:npcs, perplexity = 5)\\n        if (!is.null(plot.vars)) {\\n            tsne.plots &lt;- NULL\\n            for (pvar in plot.vars) {\\n                p &lt;- LabelClusters(DimPlot(object, pt.size = 4, \\n                  reduction = \"tsne\", group.by = pvar, ), id = pvar)\\n                tsne.plots &lt;- if (is.null(tsne.plots)) {\\n                  p\\n                }\\n                else {\\n                  tsne.plots + p\\n                }\\n            }\\n            plot(tsne.plots)\\n        }\\n    }\\n    return(object)\\n}\\n\\nget.grouped.cells &lt;- function (object, group.vars) \\n{\\n    grouped.cells &lt;- split(colnames(object), apply(object@meta.data[, \\n        group.vars], 1, paste, collapse = \"_\"))\\n    return(grouped.cells)\\n}\\n\\nget.seurat.from.cells &lt;- function (object, cells) \\n{\\n    require(dplyr)\\n    if (!any(duplicated(cells))) {\\n        return(object[, cells])\\n    }\\n    else {\\n        cells &lt;- data.frame(cells) %&gt;% group_by(cells) %&gt;% mutate(rep = 1:length(cells), \\n            new.cell = paste(cells, rep, sep = \"_\"))\\n        new.obj &lt;- lapply(split(cells, cells$rep), function(celldata) {\\n            new.obj &lt;- object[, celldata$cells]\\n            new.obj &lt;- rename.seurat.cells(object = new.obj, \\n                new.names = celldata$new.cell)\\n            new.obj\\n        }) %&gt;% merge.seurat(merge.data = T)\\n        return(new.obj)\\n    }\\n}\\n\\nmerge.seurat &lt;- function (seurat_list, merge.data = T) \\n{\\n    return(purrr::reduce(seurat_list, function(x, y) {\\n        merge(x = x, y = y, merge.data = merge.data)\\n    }))\\n}\\n\\nrename.seurat.cells &lt;- function (object, new.names, assays = c(\"RNA\"), slots = c(\"counts\", \\n    \"data\", \"scale.data\")) \\n{\\n    require(Seurat)\\n    meta.data &lt;- object@meta.data\\n    rownames(meta.data) &lt;- new.names\\n    counts &lt;- object[[\"RNA\"]]@counts\\n    colnames(counts) &lt;- new.names\\n    newobj &lt;- CreateSeuratObject(counts = counts, row.names = rownames(object), \\n        min.cells = 0, min.features = 0, assay = \"RNA\", meta.data = meta.data)\\n    for (assay in names(object)) {\\n        if (!assay %in% assays) {\\n            (next)()\\n        }\\n        for (sl in slotNames(object[[assay]])) {\\n            if (!sl %in% slots) {\\n                (next)()\\n            }\\n            slotdata &lt;- slot(object[[assay]], sl)\\n            if (0 %in% dim(slotdata)) {\\n                (next)()\\n            }\\n            colnames(slotdata) &lt;- new.names\\n            slot(newobj[[assay]], sl) &lt;- slotdata\\n        }\\n    }\\n    return(newobj)\\n}\\n\\nsave_functions &lt;- function (basename = \"functions\", functions = NULL, envir.get = NULL, \\n    R_script = T, Rda = T) \\n{\\n    require(glue)\\n    if (is.null(envir.get)) {\\n        envir.get &lt;- globalenv()\\n    }\\n    if (is.null(functions)) {\\n        env.vars &lt;- sort(ls(envir = envir.get))\\n        functions &lt;- env.vars[sapply(sapply(env.vars, get, envir = envir.get), \\n            class) == \"function\"]\\n    }\\n    if (Rda) {\\n        save(list = functions, envir = envir.get, file = glue(\"{basename}.rda\"))\\n    }\\n    if (R_script) {\\n        script &lt;- paste(sapply(1:length(functions), function(i, \\n            e = envir.get) {\\n            paste(functions[i], paste(deparse(get(x = functions[i], \\n                envir = e)), collapse = \"\\\\n\"), sep = \" &lt;- \")\\n        }), collapse = \"\\\\n\\\\n\")\\n        cat(script, file = glue(\"{basename}.r\"))\\n        return(script)\\n    }\\n}\\n\\nset_parallel &lt;- function (slurm_check = T, max_cores = Inf, future = T, future.strategy = \"multicore\", \\n    future.mem = Inf) \\n{\\n    n.cores &lt;- NA\\n    if (slurm_check) {\\n        n.cores &lt;- as.numeric(Sys.getenv(\"SLURM_CPUS_PER_TASK\"))\\n    }\\n    n.cores &lt;- if (!is.na(n.cores) &amp; n.cores &gt; 1) \\n        n.cores\\n    else parallel::detectCores()\\n    n.cores &lt;- min(max_cores, n.cores)\\n    if (future) {\\n        if (!is.null(future.mem)) {\\n            options(future.globals.maxSize = future.mem)\\n        }\\n        future::plan(strategy = future.strategy, workers = n.cores)\\n    }\\n    return(n.cores)\\n}'</span>"
      ],
      "text/latex": [
       "'dimred.auto <- function (object, lognorm = T, scale.factor = 10000, plot.vars = NULL, \\textbackslash{}n    base.size = 5, umap = T, tsne = T, pca = T) \\textbackslash{}n\\{\\textbackslash{}n    require(Seurat)\\textbackslash{}n    suppressMessages(suppressWarnings(expr = \\{\\textbackslash{}n        if (lognorm) \\{\\textbackslash{}n            object <- NormalizeData(object, scale.factor = scale.factor)\\textbackslash{}n        \\}\\textbackslash{}n        object <- ScaleData(object)\\textbackslash{}n        object <- FindVariableFeatures(object)\\textbackslash{}n        npcs <- min(ncol(object) - 1, 50)\\textbackslash{}n        object <- RunPCA(object, npcs = npcs)\\textbackslash{}n        options(repr.plot.height = 8, repr.plot.width = 16)\\textbackslash{}n    \\}))\\textbackslash{}n    if (!is.null(plot.vars) \\& pca) \\{\\textbackslash{}n        pca.plots <- NULL\\textbackslash{}n        for (pvar in plot.vars) \\{\\textbackslash{}n            p <- LabelClusters(DimPlot(object, pt.size = 4, reduction = \"pca\", \\textbackslash{}n                group.by = pvar, ), id = pvar)\\textbackslash{}n            pca.plots <- if (is.null(pca.plots)) \\{\\textbackslash{}n                p\\textbackslash{}n            \\}\\textbackslash{}n            else \\{\\textbackslash{}n                pca.plots + p\\textbackslash{}n            \\}\\textbackslash{}n        \\}\\textbackslash{}n        plot(pca.plots)\\textbackslash{}n    \\}\\textbackslash{}n    if (umap) \\{\\textbackslash{}n        object <- RunUMAP(object, dims = 1:npcs, verbose = F, \\textbackslash{}n            spread = 4, min.dist = 0)\\textbackslash{}n        if (!is.null(plot.vars)) \\{\\textbackslash{}n            umap.plots <- NULL\\textbackslash{}n            for (pvar in plot.vars) \\{\\textbackslash{}n                p <- LabelClusters(DimPlot(object, pt.size = 4, \\textbackslash{}n                  reduction = \"umap\", group.by = pvar, ), id = pvar)\\textbackslash{}n                umap.plots <- if (is.null(umap.plots)) \\{\\textbackslash{}n                  p\\textbackslash{}n                \\}\\textbackslash{}n                else \\{\\textbackslash{}n                  umap.plots + p\\textbackslash{}n                \\}\\textbackslash{}n            \\}\\textbackslash{}n            plot(umap.plots)\\textbackslash{}n        \\}\\textbackslash{}n    \\}\\textbackslash{}n    if (tsne) \\{\\textbackslash{}n        object <- RunTSNE(object, dims = 1:npcs, perplexity = 5)\\textbackslash{}n        if (!is.null(plot.vars)) \\{\\textbackslash{}n            tsne.plots <- NULL\\textbackslash{}n            for (pvar in plot.vars) \\{\\textbackslash{}n                p <- LabelClusters(DimPlot(object, pt.size = 4, \\textbackslash{}n                  reduction = \"tsne\", group.by = pvar, ), id = pvar)\\textbackslash{}n                tsne.plots <- if (is.null(tsne.plots)) \\{\\textbackslash{}n                  p\\textbackslash{}n                \\}\\textbackslash{}n                else \\{\\textbackslash{}n                  tsne.plots + p\\textbackslash{}n                \\}\\textbackslash{}n            \\}\\textbackslash{}n            plot(tsne.plots)\\textbackslash{}n        \\}\\textbackslash{}n    \\}\\textbackslash{}n    return(object)\\textbackslash{}n\\}\\textbackslash{}n\\textbackslash{}nget.grouped.cells <- function (object, group.vars) \\textbackslash{}n\\{\\textbackslash{}n    grouped.cells <- split(colnames(object), apply(object@meta.data{[}, \\textbackslash{}n        group.vars{]}, 1, paste, collapse = \"\\_\"))\\textbackslash{}n    return(grouped.cells)\\textbackslash{}n\\}\\textbackslash{}n\\textbackslash{}nget.seurat.from.cells <- function (object, cells) \\textbackslash{}n\\{\\textbackslash{}n    require(dplyr)\\textbackslash{}n    if (!any(duplicated(cells))) \\{\\textbackslash{}n        return(object{[}, cells{]})\\textbackslash{}n    \\}\\textbackslash{}n    else \\{\\textbackslash{}n        cells <- data.frame(cells) \\%>\\% group\\_by(cells) \\%>\\% mutate(rep = 1:length(cells), \\textbackslash{}n            new.cell = paste(cells, rep, sep = \"\\_\"))\\textbackslash{}n        new.obj <- lapply(split(cells, cells\\$rep), function(celldata) \\{\\textbackslash{}n            new.obj <- object{[}, celldata\\$cells{]}\\textbackslash{}n            new.obj <- rename.seurat.cells(object = new.obj, \\textbackslash{}n                new.names = celldata\\$new.cell)\\textbackslash{}n            new.obj\\textbackslash{}n        \\}) \\%>\\% merge.seurat(merge.data = T)\\textbackslash{}n        return(new.obj)\\textbackslash{}n    \\}\\textbackslash{}n\\}\\textbackslash{}n\\textbackslash{}nmerge.seurat <- function (seurat\\_list, merge.data = T) \\textbackslash{}n\\{\\textbackslash{}n    return(purrr::reduce(seurat\\_list, function(x, y) \\{\\textbackslash{}n        merge(x = x, y = y, merge.data = merge.data)\\textbackslash{}n    \\}))\\textbackslash{}n\\}\\textbackslash{}n\\textbackslash{}nrename.seurat.cells <- function (object, new.names, assays = c(\"RNA\"), slots = c(\"counts\", \\textbackslash{}n    \"data\", \"scale.data\")) \\textbackslash{}n\\{\\textbackslash{}n    require(Seurat)\\textbackslash{}n    meta.data <- object@meta.data\\textbackslash{}n    rownames(meta.data) <- new.names\\textbackslash{}n    counts <- object{[}{[}\"RNA\"{]}{]}@counts\\textbackslash{}n    colnames(counts) <- new.names\\textbackslash{}n    newobj <- CreateSeuratObject(counts = counts, row.names = rownames(object), \\textbackslash{}n        min.cells = 0, min.features = 0, assay = \"RNA\", meta.data = meta.data)\\textbackslash{}n    for (assay in names(object)) \\{\\textbackslash{}n        if (!assay \\%in\\% assays) \\{\\textbackslash{}n            (next)()\\textbackslash{}n        \\}\\textbackslash{}n        for (sl in slotNames(object{[}{[}assay{]}{]})) \\{\\textbackslash{}n            if (!sl \\%in\\% slots) \\{\\textbackslash{}n                (next)()\\textbackslash{}n            \\}\\textbackslash{}n            slotdata <- slot(object{[}{[}assay{]}{]}, sl)\\textbackslash{}n            if (0 \\%in\\% dim(slotdata)) \\{\\textbackslash{}n                (next)()\\textbackslash{}n            \\}\\textbackslash{}n            colnames(slotdata) <- new.names\\textbackslash{}n            slot(newobj{[}{[}assay{]}{]}, sl) <- slotdata\\textbackslash{}n        \\}\\textbackslash{}n    \\}\\textbackslash{}n    return(newobj)\\textbackslash{}n\\}\\textbackslash{}n\\textbackslash{}nsave\\_functions <- function (basename = \"functions\", functions = NULL, envir.get = NULL, \\textbackslash{}n    R\\_script = T, Rda = T) \\textbackslash{}n\\{\\textbackslash{}n    require(glue)\\textbackslash{}n    if (is.null(envir.get)) \\{\\textbackslash{}n        envir.get <- globalenv()\\textbackslash{}n    \\}\\textbackslash{}n    if (is.null(functions)) \\{\\textbackslash{}n        env.vars <- sort(ls(envir = envir.get))\\textbackslash{}n        functions <- env.vars{[}sapply(sapply(env.vars, get, envir = envir.get), \\textbackslash{}n            class) == \"function\"{]}\\textbackslash{}n    \\}\\textbackslash{}n    if (Rda) \\{\\textbackslash{}n        save(list = functions, envir = envir.get, file = glue(\"\\{basename\\}.rda\"))\\textbackslash{}n    \\}\\textbackslash{}n    if (R\\_script) \\{\\textbackslash{}n        script <- paste(sapply(1:length(functions), function(i, \\textbackslash{}n            e = envir.get) \\{\\textbackslash{}n            paste(functions{[}i{]}, paste(deparse(get(x = functions{[}i{]}, \\textbackslash{}n                envir = e)), collapse = \"\\textbackslash{}\\textbackslash{}n\"), sep = \" <- \")\\textbackslash{}n        \\}), collapse = \"\\textbackslash{}\\textbackslash{}n\\textbackslash{}\\textbackslash{}n\")\\textbackslash{}n        cat(script, file = glue(\"\\{basename\\}.r\"))\\textbackslash{}n        return(script)\\textbackslash{}n    \\}\\textbackslash{}n\\}\\textbackslash{}n\\textbackslash{}nset\\_parallel <- function (slurm\\_check = T, max\\_cores = Inf, future = T, future.strategy = \"multicore\", \\textbackslash{}n    future.mem = Inf) \\textbackslash{}n\\{\\textbackslash{}n    n.cores <- NA\\textbackslash{}n    if (slurm\\_check) \\{\\textbackslash{}n        n.cores <- as.numeric(Sys.getenv(\"SLURM\\_CPUS\\_PER\\_TASK\"))\\textbackslash{}n    \\}\\textbackslash{}n    n.cores <- if (!is.na(n.cores) \\& n.cores > 1) \\textbackslash{}n        n.cores\\textbackslash{}n    else parallel::detectCores()\\textbackslash{}n    n.cores <- min(max\\_cores, n.cores)\\textbackslash{}n    if (future) \\{\\textbackslash{}n        if (!is.null(future.mem)) \\{\\textbackslash{}n            options(future.globals.maxSize = future.mem)\\textbackslash{}n        \\}\\textbackslash{}n        future::plan(strategy = future.strategy, workers = n.cores)\\textbackslash{}n    \\}\\textbackslash{}n    return(n.cores)\\textbackslash{}n\\}'"
      ],
      "text/markdown": [
       "<span style=white-space:pre-wrap>'dimred.auto &lt;- function (object, lognorm = T, scale.factor = 10000, plot.vars = NULL, \\n    base.size = 5, umap = T, tsne = T, pca = T) \\n{\\n    require(Seurat)\\n    suppressMessages(suppressWarnings(expr = {\\n        if (lognorm) {\\n            object &lt;- NormalizeData(object, scale.factor = scale.factor)\\n        }\\n        object &lt;- ScaleData(object)\\n        object &lt;- FindVariableFeatures(object)\\n        npcs &lt;- min(ncol(object) - 1, 50)\\n        object &lt;- RunPCA(object, npcs = npcs)\\n        options(repr.plot.height = 8, repr.plot.width = 16)\\n    }))\\n    if (!is.null(plot.vars) &amp; pca) {\\n        pca.plots &lt;- NULL\\n        for (pvar in plot.vars) {\\n            p &lt;- LabelClusters(DimPlot(object, pt.size = 4, reduction = \"pca\", \\n                group.by = pvar, ), id = pvar)\\n            pca.plots &lt;- if (is.null(pca.plots)) {\\n                p\\n            }\\n            else {\\n                pca.plots + p\\n            }\\n        }\\n        plot(pca.plots)\\n    }\\n    if (umap) {\\n        object &lt;- RunUMAP(object, dims = 1:npcs, verbose = F, \\n            spread = 4, min.dist = 0)\\n        if (!is.null(plot.vars)) {\\n            umap.plots &lt;- NULL\\n            for (pvar in plot.vars) {\\n                p &lt;- LabelClusters(DimPlot(object, pt.size = 4, \\n                  reduction = \"umap\", group.by = pvar, ), id = pvar)\\n                umap.plots &lt;- if (is.null(umap.plots)) {\\n                  p\\n                }\\n                else {\\n                  umap.plots + p\\n                }\\n            }\\n            plot(umap.plots)\\n        }\\n    }\\n    if (tsne) {\\n        object &lt;- RunTSNE(object, dims = 1:npcs, perplexity = 5)\\n        if (!is.null(plot.vars)) {\\n            tsne.plots &lt;- NULL\\n            for (pvar in plot.vars) {\\n                p &lt;- LabelClusters(DimPlot(object, pt.size = 4, \\n                  reduction = \"tsne\", group.by = pvar, ), id = pvar)\\n                tsne.plots &lt;- if (is.null(tsne.plots)) {\\n                  p\\n                }\\n                else {\\n                  tsne.plots + p\\n                }\\n            }\\n            plot(tsne.plots)\\n        }\\n    }\\n    return(object)\\n}\\n\\nget.grouped.cells &lt;- function (object, group.vars) \\n{\\n    grouped.cells &lt;- split(colnames(object), apply(object@meta.data[, \\n        group.vars], 1, paste, collapse = \"_\"))\\n    return(grouped.cells)\\n}\\n\\nget.seurat.from.cells &lt;- function (object, cells) \\n{\\n    require(dplyr)\\n    if (!any(duplicated(cells))) {\\n        return(object[, cells])\\n    }\\n    else {\\n        cells &lt;- data.frame(cells) %&gt;% group_by(cells) %&gt;% mutate(rep = 1:length(cells), \\n            new.cell = paste(cells, rep, sep = \"_\"))\\n        new.obj &lt;- lapply(split(cells, cells$rep), function(celldata) {\\n            new.obj &lt;- object[, celldata$cells]\\n            new.obj &lt;- rename.seurat.cells(object = new.obj, \\n                new.names = celldata$new.cell)\\n            new.obj\\n        }) %&gt;% merge.seurat(merge.data = T)\\n        return(new.obj)\\n    }\\n}\\n\\nmerge.seurat &lt;- function (seurat_list, merge.data = T) \\n{\\n    return(purrr::reduce(seurat_list, function(x, y) {\\n        merge(x = x, y = y, merge.data = merge.data)\\n    }))\\n}\\n\\nrename.seurat.cells &lt;- function (object, new.names, assays = c(\"RNA\"), slots = c(\"counts\", \\n    \"data\", \"scale.data\")) \\n{\\n    require(Seurat)\\n    meta.data &lt;- object@meta.data\\n    rownames(meta.data) &lt;- new.names\\n    counts &lt;- object[[\"RNA\"]]@counts\\n    colnames(counts) &lt;- new.names\\n    newobj &lt;- CreateSeuratObject(counts = counts, row.names = rownames(object), \\n        min.cells = 0, min.features = 0, assay = \"RNA\", meta.data = meta.data)\\n    for (assay in names(object)) {\\n        if (!assay %in% assays) {\\n            (next)()\\n        }\\n        for (sl in slotNames(object[[assay]])) {\\n            if (!sl %in% slots) {\\n                (next)()\\n            }\\n            slotdata &lt;- slot(object[[assay]], sl)\\n            if (0 %in% dim(slotdata)) {\\n                (next)()\\n            }\\n            colnames(slotdata) &lt;- new.names\\n            slot(newobj[[assay]], sl) &lt;- slotdata\\n        }\\n    }\\n    return(newobj)\\n}\\n\\nsave_functions &lt;- function (basename = \"functions\", functions = NULL, envir.get = NULL, \\n    R_script = T, Rda = T) \\n{\\n    require(glue)\\n    if (is.null(envir.get)) {\\n        envir.get &lt;- globalenv()\\n    }\\n    if (is.null(functions)) {\\n        env.vars &lt;- sort(ls(envir = envir.get))\\n        functions &lt;- env.vars[sapply(sapply(env.vars, get, envir = envir.get), \\n            class) == \"function\"]\\n    }\\n    if (Rda) {\\n        save(list = functions, envir = envir.get, file = glue(\"{basename}.rda\"))\\n    }\\n    if (R_script) {\\n        script &lt;- paste(sapply(1:length(functions), function(i, \\n            e = envir.get) {\\n            paste(functions[i], paste(deparse(get(x = functions[i], \\n                envir = e)), collapse = \"\\\\n\"), sep = \" &lt;- \")\\n        }), collapse = \"\\\\n\\\\n\")\\n        cat(script, file = glue(\"{basename}.r\"))\\n        return(script)\\n    }\\n}\\n\\nset_parallel &lt;- function (slurm_check = T, max_cores = Inf, future = T, future.strategy = \"multicore\", \\n    future.mem = Inf) \\n{\\n    n.cores &lt;- NA\\n    if (slurm_check) {\\n        n.cores &lt;- as.numeric(Sys.getenv(\"SLURM_CPUS_PER_TASK\"))\\n    }\\n    n.cores &lt;- if (!is.na(n.cores) &amp; n.cores &gt; 1) \\n        n.cores\\n    else parallel::detectCores()\\n    n.cores &lt;- min(max_cores, n.cores)\\n    if (future) {\\n        if (!is.null(future.mem)) {\\n            options(future.globals.maxSize = future.mem)\\n        }\\n        future::plan(strategy = future.strategy, workers = n.cores)\\n    }\\n    return(n.cores)\\n}'</span>"
      ],
      "text/plain": [
       "[1] \"dimred.auto <- function (object, lognorm = T, scale.factor = 10000, plot.vars = NULL, \\n    base.size = 5, umap = T, tsne = T, pca = T) \\n{\\n    require(Seurat)\\n    suppressMessages(suppressWarnings(expr = {\\n        if (lognorm) {\\n            object <- NormalizeData(object, scale.factor = scale.factor)\\n        }\\n        object <- ScaleData(object)\\n        object <- FindVariableFeatures(object)\\n        npcs <- min(ncol(object) - 1, 50)\\n        object <- RunPCA(object, npcs = npcs)\\n        options(repr.plot.height = 8, repr.plot.width = 16)\\n    }))\\n    if (!is.null(plot.vars) & pca) {\\n        pca.plots <- NULL\\n        for (pvar in plot.vars) {\\n            p <- LabelClusters(DimPlot(object, pt.size = 4, reduction = \\\"pca\\\", \\n                group.by = pvar, ), id = pvar)\\n            pca.plots <- if (is.null(pca.plots)) {\\n                p\\n            }\\n            else {\\n                pca.plots + p\\n            }\\n        }\\n        plot(pca.plots)\\n    }\\n    if (umap) {\\n        object <- RunUMAP(object, dims = 1:npcs, verbose = F, \\n            spread = 4, min.dist = 0)\\n        if (!is.null(plot.vars)) {\\n            umap.plots <- NULL\\n            for (pvar in plot.vars) {\\n                p <- LabelClusters(DimPlot(object, pt.size = 4, \\n                  reduction = \\\"umap\\\", group.by = pvar, ), id = pvar)\\n                umap.plots <- if (is.null(umap.plots)) {\\n                  p\\n                }\\n                else {\\n                  umap.plots + p\\n                }\\n            }\\n            plot(umap.plots)\\n        }\\n    }\\n    if (tsne) {\\n        object <- RunTSNE(object, dims = 1:npcs, perplexity = 5)\\n        if (!is.null(plot.vars)) {\\n            tsne.plots <- NULL\\n            for (pvar in plot.vars) {\\n                p <- LabelClusters(DimPlot(object, pt.size = 4, \\n                  reduction = \\\"tsne\\\", group.by = pvar, ), id = pvar)\\n                tsne.plots <- if (is.null(tsne.plots)) {\\n                  p\\n                }\\n                else {\\n                  tsne.plots + p\\n                }\\n            }\\n            plot(tsne.plots)\\n        }\\n    }\\n    return(object)\\n}\\n\\nget.grouped.cells <- function (object, group.vars) \\n{\\n    grouped.cells <- split(colnames(object), apply(object@meta.data[, \\n        group.vars], 1, paste, collapse = \\\"_\\\"))\\n    return(grouped.cells)\\n}\\n\\nget.seurat.from.cells <- function (object, cells) \\n{\\n    require(dplyr)\\n    if (!any(duplicated(cells))) {\\n        return(object[, cells])\\n    }\\n    else {\\n        cells <- data.frame(cells) %>% group_by(cells) %>% mutate(rep = 1:length(cells), \\n            new.cell = paste(cells, rep, sep = \\\"_\\\"))\\n        new.obj <- lapply(split(cells, cells$rep), function(celldata) {\\n            new.obj <- object[, celldata$cells]\\n            new.obj <- rename.seurat.cells(object = new.obj, \\n                new.names = celldata$new.cell)\\n            new.obj\\n        }) %>% merge.seurat(merge.data = T)\\n        return(new.obj)\\n    }\\n}\\n\\nmerge.seurat <- function (seurat_list, merge.data = T) \\n{\\n    return(purrr::reduce(seurat_list, function(x, y) {\\n        merge(x = x, y = y, merge.data = merge.data)\\n    }))\\n}\\n\\nrename.seurat.cells <- function (object, new.names, assays = c(\\\"RNA\\\"), slots = c(\\\"counts\\\", \\n    \\\"data\\\", \\\"scale.data\\\")) \\n{\\n    require(Seurat)\\n    meta.data <- object@meta.data\\n    rownames(meta.data) <- new.names\\n    counts <- object[[\\\"RNA\\\"]]@counts\\n    colnames(counts) <- new.names\\n    newobj <- CreateSeuratObject(counts = counts, row.names = rownames(object), \\n        min.cells = 0, min.features = 0, assay = \\\"RNA\\\", meta.data = meta.data)\\n    for (assay in names(object)) {\\n        if (!assay %in% assays) {\\n            (next)()\\n        }\\n        for (sl in slotNames(object[[assay]])) {\\n            if (!sl %in% slots) {\\n                (next)()\\n            }\\n            slotdata <- slot(object[[assay]], sl)\\n            if (0 %in% dim(slotdata)) {\\n                (next)()\\n            }\\n            colnames(slotdata) <- new.names\\n            slot(newobj[[assay]], sl) <- slotdata\\n        }\\n    }\\n    return(newobj)\\n}\\n\\nsave_functions <- function (basename = \\\"functions\\\", functions = NULL, envir.get = NULL, \\n    R_script = T, Rda = T) \\n{\\n    require(glue)\\n    if (is.null(envir.get)) {\\n        envir.get <- globalenv()\\n    }\\n    if (is.null(functions)) {\\n        env.vars <- sort(ls(envir = envir.get))\\n        functions <- env.vars[sapply(sapply(env.vars, get, envir = envir.get), \\n            class) == \\\"function\\\"]\\n    }\\n    if (Rda) {\\n        save(list = functions, envir = envir.get, file = glue(\\\"{basename}.rda\\\"))\\n    }\\n    if (R_script) {\\n        script <- paste(sapply(1:length(functions), function(i, \\n            e = envir.get) {\\n            paste(functions[i], paste(deparse(get(x = functions[i], \\n                envir = e)), collapse = \\\"\\\\n\\\"), sep = \\\" <- \\\")\\n        }), collapse = \\\"\\\\n\\\\n\\\")\\n        cat(script, file = glue(\\\"{basename}.r\\\"))\\n        return(script)\\n    }\\n}\\n\\nset_parallel <- function (slurm_check = T, max_cores = Inf, future = T, future.strategy = \\\"multicore\\\", \\n    future.mem = Inf) \\n{\\n    n.cores <- NA\\n    if (slurm_check) {\\n        n.cores <- as.numeric(Sys.getenv(\\\"SLURM_CPUS_PER_TASK\\\"))\\n    }\\n    n.cores <- if (!is.na(n.cores) & n.cores > 1) \\n        n.cores\\n    else parallel::detectCores()\\n    n.cores <- min(max_cores, n.cores)\\n    if (future) {\\n        if (!is.null(future.mem)) {\\n            options(future.globals.maxSize = future.mem)\\n        }\\n        future::plan(strategy = future.strategy, workers = n.cores)\\n    }\\n    return(n.cores)\\n}\""
      ]
     },
     "metadata": {},
     "output_type": "display_data"
    }
   ],
   "source": [
    "save_functions('seurat_handling')"
   ]
  }
 ],
 "metadata": {
  "kernelspec": {
   "display_name": "Portfolio (R)",
   "language": "R",
   "name": "portfolio-r"
  },
  "language_info": {
   "codemirror_mode": "r",
   "file_extension": ".r",
   "mimetype": "text/x-r-source",
   "name": "R",
   "pygments_lexer": "r",
   "version": "4.3.1"
  }
 },
 "nbformat": 4,
 "nbformat_minor": 5
}
