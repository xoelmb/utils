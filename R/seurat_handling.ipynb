{
 "cells": [
  {
   "cell_type": "code",
   "execution_count": 1,
   "id": "29f1f025-5dfd-482d-8dba-d952609ba172",
   "metadata": {
    "vscode": {
     "languageId": "r"
    }
   },
   "outputs": [
    {
     "name": "stdout",
     "output_type": "stream",
     "text": [
      "Loading objects:\n",
      "  save_functions\n",
      "  set_parallel\n",
      "Loading objects:\n",
      "  restore.factors\n",
      "  save_functions\n",
      "  set_parallel\n",
      "  summarise.metadata\n"
     ]
    }
   ],
   "source": [
    "load('packaging.rda', verbose=T)\n",
    "load('data_handling.rda', verbose=T)"
   ]
  },
  {
   "cell_type": "markdown",
   "id": "ef68712e-92e5-4fec-b00f-1f1f8eaef3f0",
   "metadata": {},
   "source": [
    "### Seurat data handling"
   ]
  },
  {
   "cell_type": "markdown",
   "id": "22a10262-574d-4b44-b9e7-fc8dc08d8804",
   "metadata": {},
   "source": [
    "#### Group cells using variables"
   ]
  },
  {
   "cell_type": "code",
   "execution_count": 2,
   "id": "7df15667-f6d7-4266-b786-21ebf9beab91",
   "metadata": {
    "vscode": {
     "languageId": "r"
    }
   },
   "outputs": [],
   "source": [
    "get.grouped.cells <- function(object, group.vars){\n",
    "    grouped.cells <- split(\n",
    "        colnames(object), \n",
    "        apply(object@meta.data[, group.vars], 1, paste, collapse='_')\n",
    "    )\n",
    "    return(grouped.cells)\n",
    "}"
   ]
  },
  {
   "cell_type": "markdown",
   "id": "fb7ad218-85a2-469e-ae2e-38f3e6241048",
   "metadata": {},
   "source": [
    "#### Merge seurat object list"
   ]
  },
  {
   "cell_type": "code",
   "execution_count": 3,
   "id": "749787d0-9718-444d-a5c2-5ddf1ff4e567",
   "metadata": {
    "scrolled": true,
    "tags": [],
    "vscode": {
     "languageId": "r"
    }
   },
   "outputs": [],
   "source": [
    "merge.seurat <- function(seurat_list, merge.data = T){\n",
    "    return(\n",
    "        purrr::reduce(seurat_list,\n",
    "                      function(x, y) {merge(x = x, y = y, merge.data = merge.data)})\n",
    "        )\n",
    "}"
   ]
  },
  {
   "cell_type": "markdown",
   "id": "754ee87e-a5d8-44ad-981d-0a3bb73881f9",
   "metadata": {},
   "source": [
    "#### Rename cells"
   ]
  },
  {
   "cell_type": "code",
   "execution_count": 4,
   "id": "a92ef5c1-0d5a-4532-9208-72e74784f52e",
   "metadata": {
    "vscode": {
     "languageId": "r"
    }
   },
   "outputs": [],
   "source": [
    "rename.seurat.cells <- function(object, new.names, assays=c('RNA'), slots=c('counts', 'data', 'scale.data')){\n",
    "    \n",
    "    require(Seurat)\n",
    "    \n",
    "    meta.data <- object@meta.data\n",
    "    rownames(meta.data) <- new.names\n",
    "    \n",
    "    counts <- object[['RNA']]@counts\n",
    "    colnames(counts) <- new.names\n",
    "    \n",
    "    newobj <- CreateSeuratObject(counts = counts, row.names = rownames(object), min.cells = 0, min.features = 0, assay = 'RNA', meta.data = meta.data)\n",
    "    \n",
    "    for (assay in names(object)){\n",
    "        if (!assay%in%assays){next()}\n",
    "        for (sl in slotNames(object[[assay]])){\n",
    "            if (!sl%in%slots){next()}\n",
    "            \n",
    "            slotdata <- slot(object[[assay]], sl)\n",
    "            if (0%in%dim(slotdata)){next()}\n",
    "            \n",
    "            colnames(slotdata) <- new.names\n",
    "            slot(newobj[[assay]], sl) <- slotdata\n",
    "        }\n",
    "    }\n",
    "    return(newobj)\n",
    "}"
   ]
  },
  {
   "cell_type": "markdown",
   "id": "84f20097-a5bf-4cf7-8a37-5e564bd85322",
   "metadata": {},
   "source": [
    "#### Subset Seurat from (maybe duplicated) cells"
   ]
  },
  {
   "cell_type": "code",
   "execution_count": 5,
   "id": "e56a4442-8745-4fda-984f-904b1772b1d5",
   "metadata": {
    "vscode": {
     "languageId": "r"
    }
   },
   "outputs": [],
   "source": [
    "get.seurat.from.cells <- function(object, cells){\n",
    "    require(dplyr)\n",
    "    \n",
    "    if(!any(duplicated(cells))){\n",
    "        return(object[,cells])\n",
    "    } else{\n",
    "        cells <- data.frame(cells)%>%group_by(cells)%>%\n",
    "            mutate(rep=1:length(cells), new.cell=paste(cells, rep, sep='_'))\n",
    "\n",
    "        new.obj <- lapply(\n",
    "            split(cells, cells$rep), function(celldata){\n",
    "                new.obj <- object[,celldata$cells]\n",
    "                new.obj <- rename.seurat.cells(object = new.obj, new.names = celldata$new.cell)\n",
    "                new.obj\n",
    "            }) %>% merge.seurat(merge.data = T) \n",
    "        return(new.obj)\n",
    "    }\n",
    "}"
   ]
  },
  {
   "cell_type": "markdown",
   "id": "bd2f48fa-bf90-4bd0-81c7-1c3126b28a4c",
   "metadata": {},
   "source": [
    "#### Dimensionality reduction automatic"
   ]
  },
  {
   "cell_type": "code",
   "execution_count": 6,
   "id": "13a400e4-3431-41b3-a88b-c6df99cc40cb",
   "metadata": {
    "vscode": {
     "languageId": "r"
    }
   },
   "outputs": [],
   "source": [
    "dimred.auto <- function(object, lognorm=T, scale.factor=10000, \n",
    "                        plot.vars=NULL, base.size = 5, umap=T, tsne=T, pca=T){\n",
    "    \n",
    "    require(Seurat)\n",
    "    \n",
    "    suppressMessages(suppressWarnings(expr = {\n",
    "        \n",
    "        if (lognorm){\n",
    "            object <- NormalizeData(object, scale.factor=scale.factor)\n",
    "        }\n",
    "        object <- ScaleData(object)\n",
    "\n",
    "        object <- FindVariableFeatures(object)\n",
    "\n",
    "        npcs <- min(ncol(object)-1, 50)\n",
    "        object <- RunPCA(object, npcs = npcs)\n",
    "\n",
    "\n",
    "        options(repr.plot.height=8, repr.plot.width=16)\n",
    "\n",
    "\n",
    "        \n",
    "    }))\n",
    "                     \n",
    "    if (!is.null(plot.vars) & pca){\n",
    "        \n",
    "        pca.plots <- NULL\n",
    "        for (pvar in plot.vars){\n",
    "            p <- LabelClusters(DimPlot(object, pt.size = 4, reduction = 'pca',\n",
    "                                   group.by = pvar,# split.by='stim'\n",
    "                                  ), id=pvar)\n",
    "            pca.plots <- if(is.null(pca.plots)){p}else{pca.plots+p}\n",
    "        }\n",
    "        plot(pca.plots)\n",
    "        \n",
    "    }\n",
    "    if (umap){\n",
    "        object <- RunUMAP(object, dims=1:npcs, verbose=F, spread = 4, min.dist = 0)\n",
    "        if (!is.null(plot.vars)){\n",
    "\n",
    "            umap.plots <- NULL\n",
    "            for (pvar in plot.vars){\n",
    "                p <- LabelClusters(DimPlot(object, pt.size = 4, reduction = 'umap',\n",
    "                                       group.by = pvar,# split.by='stim'\n",
    "                                      ), id=pvar)\n",
    "                umap.plots <- if(is.null(umap.plots)){p}else{umap.plots+p}\n",
    "            }\n",
    "            plot(umap.plots)\n",
    "        }\n",
    "    }\n",
    "\n",
    "    if (tsne){\n",
    "        object <- RunTSNE(object, dims=1:npcs, perplexity=5)\n",
    "\n",
    "        if (!is.null(plot.vars)){\n",
    "\n",
    "            tsne.plots <- NULL\n",
    "            for (pvar in plot.vars){\n",
    "                p <- LabelClusters(DimPlot(object, pt.size = 4, reduction = 'tsne',\n",
    "                                       group.by = pvar,# split.by='stim'\n",
    "                                      ), id=pvar)\n",
    "                tsne.plots <- if(is.null(tsne.plots)){p}else{tsne.plots+p}\n",
    "            }\n",
    "            plot(tsne.plots)\n",
    "        }\n",
    "    }\n",
    "\n",
    "    return(object)\n",
    "}"
   ]
  },
  {
   "cell_type": "code",
   "execution_count": 7,
   "id": "5c5aa30e-5ed6-42ab-bf40-ffb433fcf397",
   "metadata": {
    "vscode": {
     "languageId": "r"
    }
   },
   "outputs": [
    {
     "name": "stderr",
     "output_type": "stream",
     "text": [
      "Loading required package: glue\n",
      "\n"
     ]
    },
    {
     "name": "stdout",
     "output_type": "stream",
     "text": [
      "dimred.auto <- function (object, lognorm = T, scale.factor = 10000, plot.vars = NULL, \n",
      "    base.size = 5, umap = T, tsne = T, pca = T) \n",
      "{\n",
      "    require(Seurat)\n",
      "    suppressMessages(suppressWarnings(expr = {\n",
      "        if (lognorm) {\n",
      "            object <- NormalizeData(object, scale.factor = scale.factor)\n",
      "        }\n",
      "        object <- ScaleData(object)\n",
      "        object <- FindVariableFeatures(object)\n",
      "        npcs <- min(ncol(object) - 1, 50)\n",
      "        object <- RunPCA(object, npcs = npcs)\n",
      "        options(repr.plot.height = 8, repr.plot.width = 16)\n",
      "    }))\n",
      "    if (!is.null(plot.vars) & pca) {\n",
      "        pca.plots <- NULL\n",
      "        for (pvar in plot.vars) {\n",
      "            p <- LabelClusters(DimPlot(object, pt.size = 4, reduction = \"pca\", \n",
      "                group.by = pvar, ), id = pvar)\n",
      "            pca.plots <- if (is.null(pca.plots)) {\n",
      "                p\n",
      "            }\n",
      "            else {\n",
      "                pca.plots + p\n",
      "            }\n",
      "        }\n",
      "        plot(pca.plots)\n",
      "    }\n",
      "    if (umap) {\n",
      "        object <- RunUMAP(object, dims = 1:npcs, verbose = F, \n",
      "            spread = 4, min.dist = 0)\n",
      "        if (!is.null(plot.vars)) {\n",
      "            umap.plots <- NULL\n",
      "            for (pvar in plot.vars) {\n",
      "                p <- LabelClusters(DimPlot(object, pt.size = 4, \n",
      "                  reduction = \"umap\", group.by = pvar, ), id = pvar)\n",
      "                umap.plots <- if (is.null(umap.plots)) {\n",
      "                  p\n",
      "                }\n",
      "                else {\n",
      "                  umap.plots + p\n",
      "                }\n",
      "            }\n",
      "            plot(umap.plots)\n",
      "        }\n",
      "    }\n",
      "    if (tsne) {\n",
      "        object <- RunTSNE(object, dims = 1:npcs, perplexity = 5)\n",
      "        if (!is.null(plot.vars)) {\n",
      "            tsne.plots <- NULL\n",
      "            for (pvar in plot.vars) {\n",
      "                p <- LabelClusters(DimPlot(object, pt.size = 4, \n",
      "                  reduction = \"tsne\", group.by = pvar, ), id = pvar)\n",
      "                tsne.plots <- if (is.null(tsne.plots)) {\n",
      "                  p\n",
      "                }\n",
      "                else {\n",
      "                  tsne.plots + p\n",
      "                }\n",
      "            }\n",
      "            plot(tsne.plots)\n",
      "        }\n",
      "    }\n",
      "    return(object)\n",
      "}\n",
      "\n",
      "get.grouped.cells <- function (object, group.vars) \n",
      "{\n",
      "    grouped.cells <- split(colnames(object), apply(object@meta.data[, \n",
      "        group.vars], 1, paste, collapse = \"_\"))\n",
      "    return(grouped.cells)\n",
      "}\n",
      "\n",
      "get.seurat.from.cells <- function (object, cells) \n",
      "{\n",
      "    require(dplyr)\n",
      "    if (!any(duplicated(cells))) {\n",
      "        return(object[, cells])\n",
      "    }\n",
      "    else {\n",
      "        cells <- data.frame(cells) %>% group_by(cells) %>% mutate(rep = 1:length(cells), \n",
      "            new.cell = paste(cells, rep, sep = \"_\"))\n",
      "        new.obj <- lapply(split(cells, cells$rep), function(celldata) {\n",
      "            new.obj <- object[, celldata$cells]\n",
      "            new.obj <- rename.seurat.cells(object = new.obj, \n",
      "                new.names = celldata$new.cell)\n",
      "            new.obj\n",
      "        }) %>% merge.seurat(merge.data = T)\n",
      "        return(new.obj)\n",
      "    }\n",
      "}\n",
      "\n",
      "merge.seurat <- function (seurat_list, merge.data = T) \n",
      "{\n",
      "    return(purrr::reduce(seurat_list, function(x, y) {\n",
      "        merge(x = x, y = y, merge.data = merge.data)\n",
      "    }))\n",
      "}\n",
      "\n",
      "rename.seurat.cells <- function (object, new.names, assays = c(\"RNA\"), slots = c(\"counts\", \n",
      "    \"data\", \"scale.data\")) \n",
      "{\n",
      "    require(Seurat)\n",
      "    meta.data <- object@meta.data\n",
      "    rownames(meta.data) <- new.names\n",
      "    counts <- object[[\"RNA\"]]@counts\n",
      "    colnames(counts) <- new.names\n",
      "    newobj <- CreateSeuratObject(counts = counts, row.names = rownames(object), \n",
      "        min.cells = 0, min.features = 0, assay = \"RNA\", meta.data = meta.data)\n",
      "    for (assay in names(object)) {\n",
      "        if (!assay %in% assays) {\n",
      "            (next)()\n",
      "        }\n",
      "        for (sl in slotNames(object[[assay]])) {\n",
      "            if (!sl %in% slots) {\n",
      "                (next)()\n",
      "            }\n",
      "            slotdata <- slot(object[[assay]], sl)\n",
      "            if (0 %in% dim(slotdata)) {\n",
      "                (next)()\n",
      "            }\n",
      "            colnames(slotdata) <- new.names\n",
      "            slot(newobj[[assay]], sl) <- slotdata\n",
      "        }\n",
      "    }\n",
      "    return(newobj)\n",
      "}\n",
      "\n",
      "restore.factors <- function (x, reference, factor.vars = NULL) \n",
      "{\n",
      "    if (is.null(factor.vars)) {\n",
      "        factor.vars <- colnames(reference)[unlist(lapply(reference, \n",
      "            is.factor))]\n",
      "    }\n",
      "    for (fct.var in factor.vars) {\n",
      "        if (!fct.var %in% colnames(x)) {\n",
      "            (next)()\n",
      "        }\n",
      "        if (!all(unique(x[, fct.var]) %in% levels(reference[, \n",
      "            fct.var]))) {\n",
      "            (next)()\n",
      "        }\n",
      "        x[, fct.var] <- factor(as.character(x[, fct.var]), levels = levels(reference[, \n",
      "            fct.var]))\n",
      "    }\n",
      "    return(x)\n",
      "}\n",
      "\n",
      "save_functions <- function (basename = \"functions\", functions = NULL, envir.get = NULL, \n",
      "    R_script = T, Rda = T) \n",
      "{\n",
      "    require(glue)\n",
      "    if (is.null(envir.get)) {\n",
      "        envir.get <- globalenv()\n",
      "    }\n",
      "    if (is.null(functions)) {\n",
      "        env.vars <- sort(ls(envir = envir.get))\n",
      "        functions <- env.vars[sapply(sapply(env.vars, get, envir = envir.get), \n",
      "            class) == \"function\"]\n",
      "    }\n",
      "    if (Rda) {\n",
      "        save(list = functions, envir = envir.get, file = glue(\"{basename}.rda\"))\n",
      "    }\n",
      "    if (R_script) {\n",
      "        script <- paste(sapply(1:length(functions), function(i, \n",
      "            e = envir.get) {\n",
      "            paste(functions[i], paste(deparse(get(x = functions[i], \n",
      "                envir = e)), collapse = \"\\n\"), sep = \" <- \")\n",
      "        }), collapse = \"\\n\\n\")\n",
      "        cat(script, file = glue(\"{basename}.r\"))\n",
      "        return(script)\n",
      "    }\n",
      "}\n",
      "\n",
      "set_parallel <- function (slurm_check = T, max_cores = Inf, future = T, future.strategy = \"multicore\", \n",
      "    future.mem = Inf) \n",
      "{\n",
      "    n.cores <- NA\n",
      "    if (slurm_check) {\n",
      "        n.cores <- as.numeric(Sys.getenv(\"SLURM_CPUS_PER_TASK\"))\n",
      "    }\n",
      "    n.cores <- if (!is.na(n.cores) & n.cores > 1) \n",
      "        n.cores\n",
      "    else parallel::detectCores()\n",
      "    n.cores <- min(max_cores, n.cores)\n",
      "    if (future) {\n",
      "        if (!is.null(future.mem)) {\n",
      "            options(future.globals.maxSize = future.mem)\n",
      "        }\n",
      "        future::plan(strategy = future.strategy, workers = n.cores)\n",
      "    }\n",
      "    return(n.cores)\n",
      "}\n",
      "\n",
      "summarise.metadata <- function (meta.data, group.vars, annotation.vars, keep_factors = T, \n",
      "    num.fun = mean, char.fun = function(x) {\n",
      "        paste(unique(as.character(x)), collapse = \",\")\n",
      "    }) \n",
      "{\n",
      "    d <- meta.data\n",
      "    require(dplyr)\n",
      "    sum.d <- d %>% group_by_at(group.vars) %>% select_at(annotation.vars) %>% \n",
      "        summarise_all(function(x) {\n",
      "            if (is.numeric(x)) {\n",
      "                num.fun(x)\n",
      "            }\n",
      "            else {\n",
      "                char.fun(x)\n",
      "            }\n",
      "        }) %>% as.data.frame()\n",
      "    if (keep_factors) {\n",
      "        sum.d <- restore.factors(x = sum.d, reference = meta.data)\n",
      "    }\n",
      "    return(sum.d)\n",
      "}"
     ]
    }
   ],
   "source": [
    "cat(save_functions('seurat_handling'))"
   ]
  }
 ],
 "metadata": {
  "kernelspec": {
   "display_name": "Portfolio (R)",
   "language": "R",
   "name": "portfolio-r"
  },
  "language_info": {
   "codemirror_mode": "r",
   "file_extension": ".r",
   "mimetype": "text/x-r-source",
   "name": "R",
   "pygments_lexer": "r",
   "version": "4.3.1"
  }
 },
 "nbformat": 4,
 "nbformat_minor": 5
}
